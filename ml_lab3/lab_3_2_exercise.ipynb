{
 "cells": [
  {
   "cell_type": "code",
   "execution_count": 2,
   "id": "ddaae635",
   "metadata": {},
   "outputs": [],
   "source": [
    "import pandas as pd\n",
    "import numpy as np\n",
    "from sklearn import preprocessing\n",
    "from sklearn.preprocessing import LabelEncoder,OneHotEncoder\n",
    "from sklearn.naive_bayes import GaussianNB,MultinomialNB\n"
   ]
  },
  {
   "cell_type": "code",
   "execution_count": 12,
   "id": "627abab7",
   "metadata": {},
   "outputs": [
    {
     "name": "stdout",
     "output_type": "stream",
     "text": [
      "   Outlook Temp Wind  Humidity  Class\n",
      "0        R    H    F         1      0\n",
      "1        R    H    T         2      0\n",
      "2        O    H    F         1      1\n",
      "3        R    M    F         1      1\n",
      "4        S    C    F         1      1\n",
      "5        O    C    T         0      0\n",
      "6        O    C    T         1      1\n",
      "7        R    M    F         1      0\n",
      "8        O    C    F         0      1\n",
      "9        S    M    F         2      1\n",
      "10       R    C    T         2      0\n",
      "11       O    M    T         0      1\n",
      "12       O    H    F         1      1\n",
      "13       S    M    T         1      0\n"
     ]
    }
   ],
   "source": [
    "datasets = pd.read_csv(\"Dataset3.csv\")\n",
    "arr = datasets.values\n",
    "print(datasets)\n",
    "le=LabelEncoder()\n",
    "X=datasets.iloc[:,:-1].values\n",
    "Y=datasets.iloc[:,-1].values\n",
    "X[ : ,0] = le.fit_transform(X[ : ,0])\n",
    "X[ : ,1] = le.fit_transform(X[ : ,1])\n",
    "X[ : ,2] = le.fit_transform(X[ : ,2])\n",
    "X[ : ,3] = le.fit_transform(X[ : ,3])\n",
    "#Y[ : ,0] = le.fit_transform(Y[ : ,0])\n",
    "onehotencoder = OneHotEncoder()\n",
    "Outlook_encoded = onehotencoder.fit_transform(X[ :, 0].reshape(-1,1)).toarray()\n",
    "Temp_encoded = onehotencoder.fit_transform(X[ :, 1].reshape(-1,1)).toarray()\n",
    "Humidity_encoded = onehotencoder.fit_transform(X[ :, 2].reshape(-1,1)).toarray()\n",
    "Wind_encoded = onehotencoder.fit_transform(X[ :, 3].reshape(-1,1)).toarray()\n",
    "Play_encoded = onehotencoder.fit_transform(Y.reshape(-1,1)).toarray()"
   ]
  },
  {
   "cell_type": "code",
   "execution_count": 13,
   "id": "dbe07c5f",
   "metadata": {},
   "outputs": [
    {
     "name": "stdout",
     "output_type": "stream",
     "text": [
      "Features:  [array([0., 1., 0.]) array([0., 1., 0.]) array([1., 0.])\n",
      " array([0., 1., 0.]) array([0., 1., 0.]) array([0., 1., 0.])\n",
      " array([0., 1.]) array([0., 0., 1.]) array([1., 0., 0.])\n",
      " array([0., 1., 0.]) array([1., 0.]) array([0., 1., 0.])\n",
      " array([0., 1., 0.]) array([0., 0., 1.]) array([1., 0.])\n",
      " array([0., 1., 0.]) array([0., 0., 1.]) array([1., 0., 0.])\n",
      " array([1., 0.]) array([0., 1., 0.]) array([1., 0., 0.])\n",
      " array([1., 0., 0.]) array([0., 1.]) array([1., 0., 0.])\n",
      " array([1., 0., 0.]) array([1., 0., 0.]) array([0., 1.])\n",
      " array([0., 1., 0.]) array([0., 1., 0.]) array([0., 0., 1.])\n",
      " array([1., 0.]) array([0., 1., 0.]) array([1., 0., 0.])\n",
      " array([1., 0., 0.]) array([1., 0.]) array([1., 0., 0.])\n",
      " array([0., 0., 1.]) array([0., 0., 1.]) array([1., 0.])\n",
      " array([0., 0., 1.]) array([0., 1., 0.]) array([1., 0., 0.])\n",
      " array([0., 1.]) array([0., 0., 1.]) array([1., 0., 0.])\n",
      " array([0., 0., 1.]) array([0., 1.]) array([1., 0., 0.])\n",
      " array([1., 0., 0.]) array([0., 1., 0.]) array([1., 0.])\n",
      " array([0., 1., 0.]) array([0., 0., 1.]) array([0., 0., 1.])\n",
      " array([0., 1.]) array([0., 1., 0.])]\n",
      "Target:  [[1. 0.]\n",
      " [1. 0.]\n",
      " [0. 1.]\n",
      " [0. 1.]\n",
      " [0. 1.]\n",
      " [1. 0.]\n",
      " [0. 1.]\n",
      " [1. 0.]\n",
      " [0. 1.]\n",
      " [0. 1.]\n",
      " [1. 0.]\n",
      " [0. 1.]\n",
      " [0. 1.]\n",
      " [1. 0.]]\n"
     ]
    }
   ],
   "source": [
    "features= np.array(list(zip(Outlook_encoded,Temp_encoded,Humidity_encoded,Wind_encoded)),dtype=object)\n",
    "features = features.flatten()\n",
    "print(\"Features: \", features)\n",
    "print(\"Target: \",Play_encoded)"
   ]
  },
  {
   "cell_type": "code",
   "execution_count": 24,
   "id": "b5d7cc9e",
   "metadata": {},
   "outputs": [
    {
     "name": "stdout",
     "output_type": "stream",
     "text": [
      "(13, 4) (13,)\n"
     ]
    }
   ],
   "source": [
    "\n",
    "from sklearn.model_selection import train_test_split\n",
    "data_train, data_test, target_train, target_test = train_test_split(X,\n",
    "Y, test_size = 0.05, random_state = 4)\n",
    "print(data_train.shape,target_train.shape)\n",
    "     "
   ]
  },
  {
   "cell_type": "code",
   "execution_count": 25,
   "id": "3b2d8c47",
   "metadata": {},
   "outputs": [],
   "source": [
    "import numpy as np\n",
    "gnb = GaussianNB()\n",
    "gnb.fit(data_train, target_train)\n",
    "target_pred = gnb.predict(data_test)"
   ]
  },
  {
   "cell_type": "code",
   "execution_count": 26,
   "id": "1ba1e09a",
   "metadata": {},
   "outputs": [
    {
     "name": "stdout",
     "output_type": "stream",
     "text": [
      "Accuracy: 0.0\n"
     ]
    }
   ],
   "source": [
    "from sklearn import metrics\n",
    "print(\"Accuracy:\",metrics.accuracy_score(target_test, target_pred))"
   ]
  },
  {
   "cell_type": "code",
   "execution_count": 27,
   "id": "9afd9004",
   "metadata": {},
   "outputs": [
    {
     "name": "stdout",
     "output_type": "stream",
     "text": [
      "precision: [0. 0.]\n",
      "recall: [0. 0.]\n"
     ]
    },
    {
     "name": "stderr",
     "output_type": "stream",
     "text": [
      "/Users/yashthakkar/opt/anaconda3/lib/python3.9/site-packages/sklearn/metrics/_classification.py:1318: UndefinedMetricWarning: Precision is ill-defined and being set to 0.0 in labels with no predicted samples. Use `zero_division` parameter to control this behavior.\n",
      "  _warn_prf(average, modifier, msg_start, len(result))\n",
      "/Users/yashthakkar/opt/anaconda3/lib/python3.9/site-packages/sklearn/metrics/_classification.py:1318: UndefinedMetricWarning: Recall is ill-defined and being set to 0.0 in labels with no true samples. Use `zero_division` parameter to control this behavior.\n",
      "  _warn_prf(average, modifier, msg_start, len(result))\n"
     ]
    }
   ],
   "source": [
    "\n",
    "from sklearn.metrics import precision_score\n",
    "from sklearn.metrics import recall_score\n",
    "precision = precision_score(target_test, target_pred, average=None)\n",
    "recall = recall_score(target_test, target_pred, average=None)\n",
    "print('precision: {}'.format(precision))\n",
    "print('recall: {}'.format(recall))\n",
    "     "
   ]
  },
  {
   "cell_type": "code",
   "execution_count": null,
   "id": "3f5fa83b",
   "metadata": {},
   "outputs": [],
   "source": [
    "##(1) What will be the value of Play, if Outlook is ’Rainy’, Temperature is ’Mild’, Humidity =’Nor-mal’, and Wind = ’False’?"
   ]
  },
  {
   "cell_type": "code",
   "execution_count": null,
   "id": "af141b75",
   "metadata": {},
   "outputs": [],
   "source": [
    "gnb.predict()"
   ]
  },
  {
   "cell_type": "markdown",
   "id": "73e0bb67",
   "metadata": {},
   "source": [
    "# for 50 percentage"
   ]
  },
  {
   "cell_type": "code",
   "execution_count": 20,
   "id": "92779c2f",
   "metadata": {},
   "outputs": [
    {
     "name": "stdout",
     "output_type": "stream",
     "text": [
      "(7, 4) (7,)\n"
     ]
    }
   ],
   "source": [
    "\n",
    "from sklearn.model_selection import train_test_split\n",
    "data_train, data_test, target_train, target_test = train_test_split(X,\n",
    "Y, test_size = 0.5, random_state = 4)\n",
    "print(data_train.shape,target_train.shape)"
   ]
  },
  {
   "cell_type": "code",
   "execution_count": 21,
   "id": "d0791706",
   "metadata": {},
   "outputs": [],
   "source": [
    "import numpy as np\n",
    "gnb = GaussianNB()\n",
    "gnb.fit(data_train, target_train)\n",
    "target_pred = gnb.predict(data_test)"
   ]
  },
  {
   "cell_type": "code",
   "execution_count": 22,
   "id": "7e03c75f",
   "metadata": {},
   "outputs": [
    {
     "name": "stdout",
     "output_type": "stream",
     "text": [
      "Accuracy: 0.2857142857142857\n"
     ]
    }
   ],
   "source": [
    "from sklearn import metrics\n",
    "print(\"Accuracy:\",metrics.accuracy_score(target_test, target_pred))"
   ]
  },
  {
   "cell_type": "code",
   "execution_count": 23,
   "id": "bc3c8b51",
   "metadata": {},
   "outputs": [
    {
     "name": "stdout",
     "output_type": "stream",
     "text": [
      "precision: [0.16666667 1.        ]\n",
      "recall: [1.         0.16666667]\n"
     ]
    }
   ],
   "source": [
    "\n",
    "from sklearn.metrics import precision_score\n",
    "from sklearn.metrics import recall_score\n",
    "precision = precision_score(target_test, target_pred, average=None)\n",
    "recall = recall_score(target_test, target_pred, average=None)\n",
    "print('precision: {}'.format(precision))\n",
    "print('recall: {}'.format(recall))"
   ]
  },
  {
   "cell_type": "code",
   "execution_count": null,
   "id": "0e1a33ae",
   "metadata": {},
   "outputs": [],
   "source": []
  }
 ],
 "metadata": {
  "kernelspec": {
   "display_name": "Python 3 (ipykernel)",
   "language": "python",
   "name": "python3"
  },
  "language_info": {
   "codemirror_mode": {
    "name": "ipython",
    "version": 3
   },
   "file_extension": ".py",
   "mimetype": "text/x-python",
   "name": "python",
   "nbconvert_exporter": "python",
   "pygments_lexer": "ipython3",
   "version": "3.9.13"
  }
 },
 "nbformat": 4,
 "nbformat_minor": 5
}
